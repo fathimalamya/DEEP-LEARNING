{
 "cells": [
  {
   "cell_type": "code",
   "execution_count": 1,
   "id": "1d8b301e",
   "metadata": {
    "_cell_guid": "b1076dfc-b9ad-4769-8c92-a6c4dae69d19",
    "_uuid": "8f2839f25d086af736a60e9eeb907d3b93b6e0e5",
    "execution": {
     "iopub.execute_input": "2023-09-19T15:36:49.801507Z",
     "iopub.status.busy": "2023-09-19T15:36:49.800922Z",
     "iopub.status.idle": "2023-09-19T15:36:50.681289Z",
     "shell.execute_reply": "2023-09-19T15:36:50.680431Z"
    },
    "papermill": {
     "duration": 0.887964,
     "end_time": "2023-09-19T15:36:50.683874",
     "exception": false,
     "start_time": "2023-09-19T15:36:49.795910",
     "status": "completed"
    },
    "tags": []
   },
   "outputs": [
    {
     "name": "stdout",
     "output_type": "stream",
     "text": [
      "/kaggle/input/cifar-10/trainLabels.csv\n",
      "/kaggle/input/cifar-10/sampleSubmission.csv\n",
      "/kaggle/input/cifar-10/test.7z\n",
      "/kaggle/input/cifar-10/train.7z\n"
     ]
    }
   ],
   "source": [
    "# This Python 3 environment comes with many helpful analytics libraries installed\n",
    "# It is defined by the kaggle/python Docker image: https://github.com/kaggle/docker-python\n",
    "# For example, here's several helpful packages to load\n",
    "\n",
    "import numpy as np # linear algebra\n",
    "import pandas as pd # data processing, CSV file I/O (e.g. pd.read_csv)\n",
    "\n",
    "# Input data files are available in the read-only \"../input/\" directory\n",
    "# For example, running this (by clicking run or pressing Shift+Enter) will list all files under the input directory\n",
    "\n",
    "import os\n",
    "for dirname, _, filenames in os.walk('/kaggle/input'):\n",
    "    for filename in filenames:\n",
    "        print(os.path.join(dirname, filename))\n",
    "\n",
    "# You can write up to 20GB to the current directory (/kaggle/working/) that gets preserved as output when you create a version using \"Save & Run All\" \n",
    "# You can also write temporary files to /kaggle/temp/, but they won't be saved outside of the current session"
   ]
  },
  {
   "cell_type": "code",
   "execution_count": 2,
   "id": "1e723517",
   "metadata": {
    "execution": {
     "iopub.execute_input": "2023-09-19T15:36:50.693690Z",
     "iopub.status.busy": "2023-09-19T15:36:50.693022Z",
     "iopub.status.idle": "2023-09-19T15:37:42.582952Z",
     "shell.execute_reply": "2023-09-19T15:37:42.581577Z"
    },
    "papermill": {
     "duration": 51.897229,
     "end_time": "2023-09-19T15:37:42.585271",
     "exception": false,
     "start_time": "2023-09-19T15:36:50.688042",
     "status": "completed"
    },
    "tags": []
   },
   "outputs": [
    {
     "name": "stdout",
     "output_type": "stream",
     "text": [
      "Collecting py7zr\r\n",
      "  Downloading py7zr-0.20.6-py3-none-any.whl (66 kB)\r\n",
      "\u001b[2K     \u001b[90m━━━━━━━━━━━━━━━━━━━━━━━━━━━━━━━━━━━━━━━━\u001b[0m \u001b[32m66.7/66.7 kB\u001b[0m \u001b[31m3.4 MB/s\u001b[0m eta \u001b[36m0:00:00\u001b[0m\r\n",
      "\u001b[?25hRequirement already satisfied: texttable in /opt/conda/lib/python3.10/site-packages (from py7zr) (1.6.7)\r\n",
      "Collecting pycryptodomex>=3.6.6 (from py7zr)\r\n",
      "  Downloading pycryptodomex-3.19.0-cp35-abi3-manylinux_2_17_x86_64.manylinux2014_x86_64.whl (2.1 MB)\r\n",
      "\u001b[2K     \u001b[90m━━━━━━━━━━━━━━━━━━━━━━━━━━━━━━━━━━━━━━━━\u001b[0m \u001b[32m2.1/2.1 MB\u001b[0m \u001b[31m40.2 MB/s\u001b[0m eta \u001b[36m0:00:00\u001b[0m\r\n",
      "\u001b[?25hCollecting pyzstd>=0.14.4 (from py7zr)\r\n",
      "  Downloading pyzstd-0.15.9-cp310-cp310-manylinux_2_17_x86_64.manylinux2014_x86_64.whl (412 kB)\r\n",
      "\u001b[2K     \u001b[90m━━━━━━━━━━━━━━━━━━━━━━━━━━━━━━━━━━━━━━\u001b[0m \u001b[32m412.3/412.3 kB\u001b[0m \u001b[31m32.0 MB/s\u001b[0m eta \u001b[36m0:00:00\u001b[0m\r\n",
      "\u001b[?25hCollecting pyppmd<1.1.0,>=0.18.1 (from py7zr)\r\n",
      "  Downloading pyppmd-1.0.0-cp310-cp310-manylinux_2_17_x86_64.manylinux2014_x86_64.whl (138 kB)\r\n",
      "\u001b[2K     \u001b[90m━━━━━━━━━━━━━━━━━━━━━━━━━━━━━━━━━━━━━━\u001b[0m \u001b[32m138.8/138.8 kB\u001b[0m \u001b[31m11.6 MB/s\u001b[0m eta \u001b[36m0:00:00\u001b[0m\r\n",
      "\u001b[?25hCollecting pybcj>=0.6.0 (from py7zr)\r\n",
      "  Downloading pybcj-1.0.1-cp310-cp310-manylinux_2_17_x86_64.manylinux2014_x86_64.whl (49 kB)\r\n",
      "\u001b[2K     \u001b[90m━━━━━━━━━━━━━━━━━━━━━━━━━━━━━━━━━━━━━━━━\u001b[0m \u001b[32m49.8/49.8 kB\u001b[0m \u001b[31m4.6 MB/s\u001b[0m eta \u001b[36m0:00:00\u001b[0m\r\n",
      "\u001b[?25hCollecting multivolumefile>=0.2.3 (from py7zr)\r\n",
      "  Downloading multivolumefile-0.2.3-py3-none-any.whl (17 kB)\r\n",
      "Collecting brotli>=1.0.9 (from py7zr)\r\n",
      "  Downloading Brotli-1.1.0-cp310-cp310-manylinux_2_5_x86_64.manylinux1_x86_64.manylinux_2_12_x86_64.manylinux2010_x86_64.whl (3.0 MB)\r\n",
      "\u001b[2K     \u001b[90m━━━━━━━━━━━━━━━━━━━━━━━━━━━━━━━━━━━━━━━━\u001b[0m \u001b[32m3.0/3.0 MB\u001b[0m \u001b[31m75.1 MB/s\u001b[0m eta \u001b[36m0:00:00\u001b[0m\r\n",
      "\u001b[?25hCollecting inflate64>=0.3.1 (from py7zr)\r\n",
      "  Downloading inflate64-0.3.1-cp310-cp310-manylinux_2_17_x86_64.manylinux2014_x86_64.whl (93 kB)\r\n",
      "\u001b[2K     \u001b[90m━━━━━━━━━━━━━━━━━━━━━━━━━━━━━━━━━━━━━━━━\u001b[0m \u001b[32m93.1/93.1 kB\u001b[0m \u001b[31m9.0 MB/s\u001b[0m eta \u001b[36m0:00:00\u001b[0m\r\n",
      "\u001b[?25hRequirement already satisfied: psutil in /opt/conda/lib/python3.10/site-packages (from py7zr) (5.9.3)\r\n",
      "Installing collected packages: brotli, pyzstd, pyppmd, pycryptodomex, pybcj, multivolumefile, inflate64, py7zr\r\n",
      "Successfully installed brotli-1.1.0 inflate64-0.3.1 multivolumefile-0.2.3 py7zr-0.20.6 pybcj-1.0.1 pycryptodomex-3.19.0 pyppmd-1.0.0 pyzstd-0.15.9\r\n",
      "Requirement already satisfied: keras in /opt/conda/lib/python3.10/site-packages (2.12.0)\r\n",
      "Requirement already satisfied: seaborn in /opt/conda/lib/python3.10/site-packages (0.12.2)\r\n",
      "Requirement already satisfied: numpy!=1.24.0,>=1.17 in /opt/conda/lib/python3.10/site-packages (from seaborn) (1.23.5)\r\n",
      "Requirement already satisfied: pandas>=0.25 in /opt/conda/lib/python3.10/site-packages (from seaborn) (2.0.2)\r\n",
      "Requirement already satisfied: matplotlib!=3.6.1,>=3.1 in /opt/conda/lib/python3.10/site-packages (from seaborn) (3.7.2)\r\n",
      "Requirement already satisfied: contourpy>=1.0.1 in /opt/conda/lib/python3.10/site-packages (from matplotlib!=3.6.1,>=3.1->seaborn) (1.1.0)\r\n",
      "Requirement already satisfied: cycler>=0.10 in /opt/conda/lib/python3.10/site-packages (from matplotlib!=3.6.1,>=3.1->seaborn) (0.11.0)\r\n",
      "Requirement already satisfied: fonttools>=4.22.0 in /opt/conda/lib/python3.10/site-packages (from matplotlib!=3.6.1,>=3.1->seaborn) (4.40.0)\r\n",
      "Requirement already satisfied: kiwisolver>=1.0.1 in /opt/conda/lib/python3.10/site-packages (from matplotlib!=3.6.1,>=3.1->seaborn) (1.4.4)\r\n",
      "Requirement already satisfied: packaging>=20.0 in /opt/conda/lib/python3.10/site-packages (from matplotlib!=3.6.1,>=3.1->seaborn) (21.3)\r\n",
      "Requirement already satisfied: pillow>=6.2.0 in /opt/conda/lib/python3.10/site-packages (from matplotlib!=3.6.1,>=3.1->seaborn) (9.5.0)\r\n",
      "Requirement already satisfied: pyparsing<3.1,>=2.3.1 in /opt/conda/lib/python3.10/site-packages (from matplotlib!=3.6.1,>=3.1->seaborn) (3.0.9)\r\n",
      "Requirement already satisfied: python-dateutil>=2.7 in /opt/conda/lib/python3.10/site-packages (from matplotlib!=3.6.1,>=3.1->seaborn) (2.8.2)\r\n",
      "Requirement already satisfied: pytz>=2020.1 in /opt/conda/lib/python3.10/site-packages (from pandas>=0.25->seaborn) (2023.3)\r\n",
      "Requirement already satisfied: tzdata>=2022.1 in /opt/conda/lib/python3.10/site-packages (from pandas>=0.25->seaborn) (2023.3)\r\n",
      "Requirement already satisfied: six>=1.5 in /opt/conda/lib/python3.10/site-packages (from python-dateutil>=2.7->matplotlib!=3.6.1,>=3.1->seaborn) (1.16.0)\r\n"
     ]
    },
    {
     "name": "stderr",
     "output_type": "stream",
     "text": [
      "/opt/conda/lib/python3.10/site-packages/scipy/__init__.py:146: UserWarning: A NumPy version >=1.16.5 and <1.23.0 is required for this version of SciPy (detected version 1.23.5\n",
      "  warnings.warn(f\"A NumPy version >={np_minversion} and <{np_maxversion}\"\n"
     ]
    },
    {
     "name": "stdout",
     "output_type": "stream",
     "text": [
      "/kaggle/input/cifar-10/trainLabels.csv\n",
      "/kaggle/input/cifar-10/sampleSubmission.csv\n",
      "/kaggle/input/cifar-10/test.7z\n",
      "/kaggle/input/cifar-10/train.7z\n"
     ]
    }
   ],
   "source": [
    "# importing necessary libraries\n",
    "!pip install py7zr\n",
    "!pip install keras\n",
    "!pip install seaborn\n",
    "from tensorflow import keras \n",
    "from keras.datasets import cifar10\n",
    "from keras.preprocessing.image import ImageDataGenerator\n",
    "from keras.models import Sequential\n",
    "from keras.layers import Dense, Dropout, Activation, Flatten\n",
    "from keras.layers import Conv2D, MaxPooling2D\n",
    "import os\n",
    "import numpy as np\n",
    "import seaborn as sns\n",
    "import pandas as pd\n",
    "import matplotlib\n",
    "import matplotlib.pyplot as plt\n",
    "from sklearn.metrics import confusion_matrix, classification_report\n",
    "import itertools\n",
    "import os\n",
    "import matplotlib.pyplot as plt\n",
    "from sklearn.model_selection import train_test_split\n",
    "import tensorflow as tf\n",
    "from tensorflow.keras.models import Sequential\n",
    "from tensorflow.keras.utils import to_categorical\n",
    "from tensorflow.keras.layers import BatchNormalization\n",
    "from tensorflow.keras.regularizers import l2\n",
    "from tensorflow.keras.layers import Dense, Dropout, Activation,Flatten,Conv2D, MaxPooling2D\n",
    "from tensorflow.keras.preprocessing.image import ImageDataGenerator\n",
    "from tensorflow.keras.datasets import cifar10 \n",
    "import tensorflow as tf\n",
    "from tensorflow.keras import layers, models\n",
    "from py7zr import unpack_7zarchive\n",
    "import shutil\n",
    "for dirname, _, filenames in os.walk('/kaggle/input'):\n",
    "    for filename in filenames:\n",
    "        print(os.path.join(dirname, filename))"
   ]
  },
  {
   "cell_type": "code",
   "execution_count": 3,
   "id": "ddc2af01",
   "metadata": {
    "execution": {
     "iopub.execute_input": "2023-09-19T15:37:42.607712Z",
     "iopub.status.busy": "2023-09-19T15:37:42.606999Z",
     "iopub.status.idle": "2023-09-19T15:38:46.700161Z",
     "shell.execute_reply": "2023-09-19T15:38:46.699099Z"
    },
    "papermill": {
     "duration": 64.10558,
     "end_time": "2023-09-19T15:38:46.702858",
     "exception": false,
     "start_time": "2023-09-19T15:37:42.597278",
     "status": "completed"
    },
    "tags": []
   },
   "outputs": [],
   "source": [
    "shutil.register_unpack_format('7zip',['.7z'],unpack_7zarchive)\n",
    "shutil.unpack_archive('../input/cifar-10/train.7z', '/kaggle/temp/')\n",
    "train_labels = pd.read_csv(\"../input/cifar-10/trainLabels.csv\", header=\"infer\")\n",
    "classes = train_labels['label'].unique()\n",
    "if not os.path.exists(\"/kaggle/temp/valid\"):\n",
    "    os.mkdir(\"/kaggle/temp/valid\")\n",
    "    \n",
    "parent_path_train = \"/kaggle/temp/train\"\n",
    "parent_path_valid = \"/kaggle/temp/valid\"\n",
    "parent_path_test = \"/kaggle/temp/test\"\n",
    "\n",
    "for class1 in classes:\n",
    "    path_train = os.path.join(parent_path_train,class1)\n",
    "    if not os.path.exists(path_train):\n",
    "        os.mkdir(path_train)\n",
    "    path_valid = os.path.join(parent_path_valid,class1)\n",
    "    if not os.path.exists(path_valid):\n",
    "        os.mkdir(path_valid)\n",
    "        \n",
    "for (int_ind,row) in train_labels.iterrows():\n",
    "    id = str(row[\"id\"])+\".png\"\n",
    "    source_path = os.path.join(parent_path_train,id)\n",
    "    \n",
    "    p=np.random.random()\n",
    "    if p<=0.8:\n",
    "        target_path = os.path.join(parent_path_train,row[\"label\"],id)\n",
    "        os.replace(source_path, target_path)\n",
    "    else:\n",
    "        target_path = os.path.join(parent_path_valid,row[\"label\"],id)\n",
    "        os.replace(source_path, target_path)"
   ]
  },
  {
   "cell_type": "code",
   "execution_count": 4,
   "id": "8f47f22f",
   "metadata": {
    "execution": {
     "iopub.execute_input": "2023-09-19T15:38:46.717731Z",
     "iopub.status.busy": "2023-09-19T15:38:46.715975Z",
     "iopub.status.idle": "2023-09-19T15:38:51.388489Z",
     "shell.execute_reply": "2023-09-19T15:38:51.387056Z"
    },
    "papermill": {
     "duration": 4.681207,
     "end_time": "2023-09-19T15:38:51.390481",
     "exception": false,
     "start_time": "2023-09-19T15:38:46.709274",
     "status": "completed"
    },
    "tags": []
   },
   "outputs": [
    {
     "name": "stdout",
     "output_type": "stream",
     "text": [
      "2 Physical GPUs, 2 Logical GPUs\n",
      "Number of devices: 2\n"
     ]
    }
   ],
   "source": [
    "# Detect GPUs, if available\n",
    "gpus = tf.config.experimental.list_physical_devices('GPU')\n",
    "if gpus:\n",
    "    try:\n",
    "        # Currently, memory growth needs to be the same across GPUs\n",
    "        for gpu in gpus:\n",
    "            tf.config.experimental.set_memory_growth(gpu, True)\n",
    "        logical_gpus = tf.config.experimental.list_logical_devices('GPU')\n",
    "        print(len(gpus), \"Physical GPUs,\", len(logical_gpus), \"Logical GPUs\")\n",
    "    except RuntimeError as e:\n",
    "        print(e)\n",
    "\n",
    "# Create and compile the model\n",
    "def create_model():\n",
    "    model = models.Sequential([\n",
    "        layers.Conv2D(32, (3, 3), activation='relu', input_shape=(32, 32, 3)),\n",
    "        layers.MaxPooling2D((2, 2)),\n",
    "        layers.Conv2D(64, (3, 3), activation='relu'),\n",
    "        layers.MaxPooling2D((2, 2)),\n",
    "        layers.Conv2D(64, (3, 3), activation='relu'),\n",
    "        layers.Flatten(),\n",
    "        layers.Dense(64, activation='relu'),\n",
    "        layers.Dense(10)\n",
    "    ])\n",
    "    return model\n",
    "\n",
    "# Define the MirroredStrategy for two GPUs\n",
    "strategy = tf.distribute.MirroredStrategy(devices=['/GPU:0', '/GPU:1'])\n",
    "\n",
    "print(\"Number of devices: {}\".format(strategy.num_replicas_in_sync))"
   ]
  },
  {
   "cell_type": "code",
   "execution_count": 5,
   "id": "3ece2b05",
   "metadata": {
    "execution": {
     "iopub.execute_input": "2023-09-19T15:38:51.402996Z",
     "iopub.status.busy": "2023-09-19T15:38:51.402686Z",
     "iopub.status.idle": "2023-09-19T15:38:52.938122Z",
     "shell.execute_reply": "2023-09-19T15:38:52.937015Z"
    },
    "papermill": {
     "duration": 1.544483,
     "end_time": "2023-09-19T15:38:52.940702",
     "exception": false,
     "start_time": "2023-09-19T15:38:51.396219",
     "status": "completed"
    },
    "tags": []
   },
   "outputs": [
    {
     "name": "stdout",
     "output_type": "stream",
     "text": [
      "Found 39940 images belonging to 10 classes.\n",
      "Found 10060 images belonging to 10 classes.\n"
     ]
    }
   ],
   "source": [
    "# Create and compile the model within the MirroredStrategy scope\n",
    "with strategy.scope():\n",
    "    model = create_model()\n",
    "    model.compile(optimizer='adam',\n",
    "                  loss=tf.keras.losses.CategoricalCrossentropy(from_logits=True),\n",
    "                  metrics=['accuracy'])\n",
    "    \n",
    "train_datagen = ImageDataGenerator(featurewise_center=False,\n",
    "                             samplewise_center=False,\n",
    "                             featurewise_std_normalization=False,\n",
    "                             samplewise_std_normalization=False,\n",
    "                             zca_whitening=False,\n",
    "                             rotation_range=10,\n",
    "                             zoom_range=0.1,\n",
    "                             width_shift_range=0.1,\n",
    "                             height_shift_range=0.1,\n",
    "                             horizontal_flip=False,\n",
    "                             vertical_flip=False,\n",
    "                             rescale=1./255)\n",
    "valid_datagen = ImageDataGenerator()\n",
    "\n",
    "train_generator = train_datagen.flow_from_directory(directory='/kaggle/temp/train/', shuffle=True, target_size=(32,32),batch_size=256)\n",
    "valid_generator = valid_datagen.flow_from_directory(directory='/kaggle/temp/valid/', shuffle=True, target_size=(32,32),batch_size=256)"
   ]
  },
  {
   "cell_type": "code",
   "execution_count": 6,
   "id": "2a553fa1",
   "metadata": {
    "execution": {
     "iopub.execute_input": "2023-09-19T15:38:52.953490Z",
     "iopub.status.busy": "2023-09-19T15:38:52.953128Z",
     "iopub.status.idle": "2023-09-19T15:54:51.323465Z",
     "shell.execute_reply": "2023-09-19T15:54:51.322231Z"
    },
    "papermill": {
     "duration": 958.379539,
     "end_time": "2023-09-19T15:54:51.326008",
     "exception": false,
     "start_time": "2023-09-19T15:38:52.946469",
     "status": "completed"
    },
    "tags": []
   },
   "outputs": [
    {
     "name": "stdout",
     "output_type": "stream",
     "text": [
      "Epoch 1/20\n",
      "156/156 [==============================] - 61s 280ms/step - loss: 1.9033 - accuracy: 0.2973 - val_loss: 196.1625 - val_accuracy: 0.3547\n",
      "Epoch 2/20\n",
      "156/156 [==============================] - 43s 268ms/step - loss: 1.5845 - accuracy: 0.4204 - val_loss: 292.0500 - val_accuracy: 0.3562\n",
      "Epoch 3/20\n",
      "156/156 [==============================] - 43s 266ms/step - loss: 1.4670 - accuracy: 0.4694 - val_loss: 264.3553 - val_accuracy: 0.3750\n",
      "Epoch 4/20\n",
      "156/156 [==============================] - 44s 273ms/step - loss: 1.4000 - accuracy: 0.4945 - val_loss: 306.0195 - val_accuracy: 0.3784\n",
      "Epoch 5/20\n",
      "156/156 [==============================] - 43s 264ms/step - loss: 1.3280 - accuracy: 0.5247 - val_loss: 229.9947 - val_accuracy: 0.4236\n",
      "Epoch 6/20\n",
      "156/156 [==============================] - 43s 267ms/step - loss: 1.2694 - accuracy: 0.5486 - val_loss: 307.4333 - val_accuracy: 0.3658\n",
      "Epoch 7/20\n",
      "156/156 [==============================] - 43s 266ms/step - loss: 1.2384 - accuracy: 0.5593 - val_loss: 328.9048 - val_accuracy: 0.3770\n",
      "Epoch 8/20\n",
      "156/156 [==============================] - 42s 261ms/step - loss: 1.2069 - accuracy: 0.5708 - val_loss: 297.8755 - val_accuracy: 0.4001\n",
      "Epoch 9/20\n",
      "156/156 [==============================] - 42s 261ms/step - loss: 1.1626 - accuracy: 0.5873 - val_loss: 238.7947 - val_accuracy: 0.4493\n",
      "Epoch 10/20\n",
      "156/156 [==============================] - 43s 262ms/step - loss: 1.1286 - accuracy: 0.5996 - val_loss: 233.3331 - val_accuracy: 0.4515\n",
      "Epoch 11/20\n",
      "156/156 [==============================] - 42s 258ms/step - loss: 1.1072 - accuracy: 0.6092 - val_loss: 248.9783 - val_accuracy: 0.4264\n",
      "Epoch 12/20\n",
      "156/156 [==============================] - 43s 264ms/step - loss: 1.0887 - accuracy: 0.6165 - val_loss: 288.1855 - val_accuracy: 0.4190\n",
      "Epoch 13/20\n",
      "156/156 [==============================] - 43s 260ms/step - loss: 1.0560 - accuracy: 0.6273 - val_loss: 269.8113 - val_accuracy: 0.4257\n",
      "Epoch 14/20\n",
      "156/156 [==============================] - 42s 256ms/step - loss: 1.0492 - accuracy: 0.6313 - val_loss: 256.2798 - val_accuracy: 0.4428\n",
      "Epoch 15/20\n",
      "156/156 [==============================] - 42s 259ms/step - loss: 1.0358 - accuracy: 0.6367 - val_loss: 249.2608 - val_accuracy: 0.4500\n",
      "Epoch 16/20\n",
      "156/156 [==============================] - 42s 259ms/step - loss: 1.0092 - accuracy: 0.6455 - val_loss: 273.0074 - val_accuracy: 0.4007\n",
      "Epoch 17/20\n",
      "156/156 [==============================] - 42s 258ms/step - loss: 0.9911 - accuracy: 0.6515 - val_loss: 294.8177 - val_accuracy: 0.4268\n",
      "Epoch 18/20\n",
      "156/156 [==============================] - 42s 268ms/step - loss: 0.9721 - accuracy: 0.6576 - val_loss: 275.7244 - val_accuracy: 0.4247\n",
      "Epoch 19/20\n",
      "156/156 [==============================] - 42s 260ms/step - loss: 0.9532 - accuracy: 0.6649 - val_loss: 248.9056 - val_accuracy: 0.4461\n",
      "Epoch 20/20\n",
      "156/156 [==============================] - 42s 268ms/step - loss: 0.9509 - accuracy: 0.6646 - val_loss: 294.8846 - val_accuracy: 0.4302\n"
     ]
    }
   ],
   "source": [
    "# Train the model using MirroredStrategy\n",
    "model.fit(train_generator,epochs=20, validation_data=valid_generator,steps_per_epoch=train_generator.n//train_generator.batch_size,\n",
    "         validation_steps= valid_generator.n//valid_generator.batch_size,workers=8,use_multiprocessing=True)\n",
    "\n",
    "# Save the model\n",
    "model.save('gpu_cifar.h5')"
   ]
  },
  {
   "cell_type": "code",
   "execution_count": 7,
   "id": "a0fc7008",
   "metadata": {
    "execution": {
     "iopub.execute_input": "2023-09-19T15:54:51.696009Z",
     "iopub.status.busy": "2023-09-19T15:54:51.695157Z",
     "iopub.status.idle": "2023-09-19T16:14:27.954757Z",
     "shell.execute_reply": "2023-09-19T16:14:27.953702Z"
    },
    "papermill": {
     "duration": 1176.447673,
     "end_time": "2023-09-19T16:14:27.957338",
     "exception": false,
     "start_time": "2023-09-19T15:54:51.509665",
     "status": "completed"
    },
    "tags": []
   },
   "outputs": [],
   "source": [
    "shutil.unpack_archive('/kaggle/input/cifar-10/test.7z','/kaggle/temp/test')\n",
    "shutil.unregister_unpack_format('7zip')"
   ]
  },
  {
   "cell_type": "code",
   "execution_count": 8,
   "id": "f564175b",
   "metadata": {
    "execution": {
     "iopub.execute_input": "2023-09-19T16:14:28.370759Z",
     "iopub.status.busy": "2023-09-19T16:14:28.370056Z",
     "iopub.status.idle": "2023-09-19T16:14:36.461470Z",
     "shell.execute_reply": "2023-09-19T16:14:36.460482Z"
    },
    "papermill": {
     "duration": 8.276581,
     "end_time": "2023-09-19T16:14:36.463936",
     "exception": false,
     "start_time": "2023-09-19T16:14:28.187355",
     "status": "completed"
    },
    "tags": []
   },
   "outputs": [
    {
     "name": "stdout",
     "output_type": "stream",
     "text": [
      "Found 300000 images belonging to 1 classes.\n"
     ]
    }
   ],
   "source": [
    "test_datagen = ImageDataGenerator(rescale=1./255)\n",
    "test_gen = test_datagen.flow_from_directory(directory='/kaggle/temp/test',target_size=(32,32),batch_size=64,class_mode=None,shuffle=False)"
   ]
  },
  {
   "cell_type": "code",
   "execution_count": 9,
   "id": "4ce1548b",
   "metadata": {
    "execution": {
     "iopub.execute_input": "2023-09-19T16:14:36.841558Z",
     "iopub.status.busy": "2023-09-19T16:14:36.841169Z",
     "iopub.status.idle": "2023-09-19T16:16:49.479593Z",
     "shell.execute_reply": "2023-09-19T16:16:49.478571Z"
    },
    "papermill": {
     "duration": 132.82994,
     "end_time": "2023-09-19T16:16:49.482131",
     "exception": false,
     "start_time": "2023-09-19T16:14:36.652191",
     "status": "completed"
    },
    "tags": []
   },
   "outputs": [
    {
     "name": "stdout",
     "output_type": "stream",
     "text": [
      "4688/4688 [==============================] - 130s 28ms/step\n"
     ]
    }
   ],
   "source": [
    "test_gen.reset()\n",
    "predictions_vecs = model.predict(test_gen)\n",
    "predictions_final = np.argmax(predictions_vecs, axis=1)"
   ]
  },
  {
   "cell_type": "code",
   "execution_count": 10,
   "id": "954b2103",
   "metadata": {
    "execution": {
     "iopub.execute_input": "2023-09-19T16:16:50.197203Z",
     "iopub.status.busy": "2023-09-19T16:16:50.196212Z",
     "iopub.status.idle": "2023-09-19T16:16:50.759078Z",
     "shell.execute_reply": "2023-09-19T16:16:50.758067Z"
    },
    "papermill": {
     "duration": 0.923809,
     "end_time": "2023-09-19T16:16:50.761636",
     "exception": false,
     "start_time": "2023-09-19T16:16:49.837827",
     "status": "completed"
    },
    "tags": []
   },
   "outputs": [
    {
     "name": "stdout",
     "output_type": "stream",
     "text": [
      "{0: 'airplane', 1: 'automobile', 2: 'bird', 3: 'cat', 4: 'deer', 5: 'dog', 6: 'frog', 7: 'horse', 8: 'ship', 9: 'truck'}\n"
     ]
    }
   ],
   "source": [
    "classes = {value:key for (key,value) in train_generator.class_indices.items()}\n",
    "print(classes)\n",
    "\n",
    "predicted_classes=np.empty(shape=300000,dtype=np.dtype('U20'))\n",
    "\n",
    "ind=0\n",
    "for i in predictions_final.tolist():\n",
    "    predicted_classes[ind]=classes[i]\n",
    "    ind=ind+1\n",
    "    \n",
    "filenames_wo_ext = []\n",
    "for fname in test_gen.filenames:\n",
    "    filenames_wo_ext.append(int(fname.split(sep=\"/\")[1].split(sep=\".\")[0])-1)\n",
    "\n",
    "predicted_classes_final = np.empty(shape=300000,dtype=np.dtype('U20'))\n",
    "predicted_classes_final[filenames_wo_ext]=predicted_classes"
   ]
  },
  {
   "cell_type": "code",
   "execution_count": 11,
   "id": "ce2b9343",
   "metadata": {
    "execution": {
     "iopub.execute_input": "2023-09-19T16:16:51.517682Z",
     "iopub.status.busy": "2023-09-19T16:16:51.517282Z",
     "iopub.status.idle": "2023-09-19T16:16:52.360292Z",
     "shell.execute_reply": "2023-09-19T16:16:52.359171Z"
    },
    "papermill": {
     "duration": 1.247799,
     "end_time": "2023-09-19T16:16:52.362722",
     "exception": false,
     "start_time": "2023-09-19T16:16:51.114923",
     "status": "completed"
    },
    "tags": []
   },
   "outputs": [
    {
     "name": "stdout",
     "output_type": "stream",
     "text": [
      "<class 'pandas.core.frame.DataFrame'>\n",
      "RangeIndex: 300000 entries, 0 to 299999\n",
      "Data columns (total 2 columns):\n",
      " #   Column  Non-Null Count   Dtype \n",
      "---  ------  --------------   ----- \n",
      " 0   id      300000 non-null  int64 \n",
      " 1   label   300000 non-null  object\n",
      "dtypes: int64(1), object(1)\n",
      "memory usage: 4.6+ MB\n"
     ]
    }
   ],
   "source": [
    "sub = pd.read_csv('../input/cifar-10/sampleSubmission.csv',header='infer')\n",
    "sub.info()\n",
    "sub['label'] = predicted_classes_final\n",
    "sub.to_csv('submission.csv',index=False)"
   ]
  }
 ],
 "metadata": {
  "kernelspec": {
   "display_name": "Python 3",
   "language": "python",
   "name": "python3"
  },
  "language_info": {
   "codemirror_mode": {
    "name": "ipython",
    "version": 3
   },
   "file_extension": ".py",
   "mimetype": "text/x-python",
   "name": "python",
   "nbconvert_exporter": "python",
   "pygments_lexer": "ipython3",
   "version": "3.10.12"
  },
  "papermill": {
   "default_parameters": {},
   "duration": 2410.388866,
   "end_time": "2023-09-19T16:16:56.508529",
   "environment_variables": {},
   "exception": null,
   "input_path": "__notebook__.ipynb",
   "output_path": "__notebook__.ipynb",
   "parameters": {},
   "start_time": "2023-09-19T15:36:46.119663",
   "version": "2.4.0"
  }
 },
 "nbformat": 4,
 "nbformat_minor": 5
}
