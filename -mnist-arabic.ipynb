{
 "cells": [
  {
   "cell_type": "code",
   "execution_count": 1,
   "id": "09fac50f",
   "metadata": {
    "_cell_guid": "b1076dfc-b9ad-4769-8c92-a6c4dae69d19",
    "_uuid": "8f2839f25d086af736a60e9eeb907d3b93b6e0e5",
    "execution": {
     "iopub.execute_input": "2023-09-09T23:29:45.143868Z",
     "iopub.status.busy": "2023-09-09T23:29:45.143150Z",
     "iopub.status.idle": "2023-09-09T23:29:45.764754Z",
     "shell.execute_reply": "2023-09-09T23:29:45.763194Z"
    },
    "papermill": {
     "duration": 0.643203,
     "end_time": "2023-09-09T23:29:45.768664",
     "exception": false,
     "start_time": "2023-09-09T23:29:45.125461",
     "status": "completed"
    },
    "tags": []
   },
   "outputs": [
    {
     "name": "stdout",
     "output_type": "stream",
     "text": [
      "/kaggle/input/ahdd1/csvTrainImages 60k x 784.csv\n",
      "/kaggle/input/ahdd1/csvTestLabel 10k x 1.csv\n",
      "/kaggle/input/ahdd1/csvTrainLabel 60k x 1.csv\n",
      "/kaggle/input/ahdd1/Train + Test Matlab.mat\n",
      "/kaggle/input/ahdd1/csvTestImages 10k x 784.csv\n",
      "/kaggle/input/ahdd1/csvTrainImages 60k x 784/csvTrainImages 60k x 784.csv\n",
      "/kaggle/input/ahdd1/Arabic Handwritten Digits Dataset CSV/csvTrainImages 60k x 784.csv\n",
      "/kaggle/input/ahdd1/Arabic Handwritten Digits Dataset CSV/csvTestLabel 10k x 1.csv\n",
      "/kaggle/input/ahdd1/Arabic Handwritten Digits Dataset CSV/csvTrainLabel 60k x 1.csv\n",
      "/kaggle/input/ahdd1/Arabic Handwritten Digits Dataset CSV/csvTestImages 10k x 784.csv\n"
     ]
    }
   ],
   "source": [
    "# This Python 3 environment comes with many helpful analytics libraries installed\n",
    "# It is defined by the kaggle/python Docker image: https://github.com/kaggle/docker-python\n",
    "# For example, here's several helpful packages to load\n",
    "\n",
    "import numpy as np # linear algebra\n",
    "import pandas as pd # data processing, CSV file I/O (e.g. pd.read_csv)\n",
    "\n",
    "# Input data files are available in the read-only \"../input/\" directory\n",
    "# For example, running this (by clicking run or pressing Shift+Enter) will list all files under the input directory\n",
    "\n",
    "import os\n",
    "for dirname, _, filenames in os.walk('/kaggle/input'):\n",
    "    for filename in filenames:\n",
    "        print(os.path.join(dirname, filename))\n",
    "\n",
    "# You can write up to 20GB to the current directory (/kaggle/working/) that gets preserved as output when you create a version using \"Save & Run All\" \n",
    "# You can also write temporary files to /kaggle/temp/, but they won't be saved outside of the current session"
   ]
  },
  {
   "cell_type": "markdown",
   "id": "b4610fb7",
   "metadata": {
    "papermill": {
     "duration": 0.013387,
     "end_time": "2023-09-09T23:29:45.797365",
     "exception": false,
     "start_time": "2023-09-09T23:29:45.783978",
     "status": "completed"
    },
    "tags": []
   },
   "source": [
    "**TO LOAD DATASET**"
   ]
  },
  {
   "cell_type": "code",
   "execution_count": 2,
   "id": "2053f572",
   "metadata": {
    "execution": {
     "iopub.execute_input": "2023-09-09T23:29:45.827887Z",
     "iopub.status.busy": "2023-09-09T23:29:45.827155Z",
     "iopub.status.idle": "2023-09-09T23:29:53.323103Z",
     "shell.execute_reply": "2023-09-09T23:29:53.321451Z"
    },
    "papermill": {
     "duration": 7.516382,
     "end_time": "2023-09-09T23:29:53.327866",
     "exception": false,
     "start_time": "2023-09-09T23:29:45.811484",
     "status": "completed"
    },
    "tags": []
   },
   "outputs": [],
   "source": [
    "import pandas as pd\n",
    "\n",
    "X_train = pd.read_csv(\"../input/ahdd1/csvTrainImages 60k x 784/csvTrainImages 60k x 784.csv\").values\n",
    "Y_train = pd.read_csv(\"../input/ahdd1/csvTrainLabel 60k x 1.csv\").values\n",
    "X_test = pd.read_csv(\"../input/ahdd1/csvTestImages 10k x 784.csv\").values\n",
    "Y_test = pd.read_csv(\"../input/ahdd1/csvTestLabel 10k x 1.csv\").values"
   ]
  },
  {
   "cell_type": "code",
   "execution_count": 3,
   "id": "3731e6d1",
   "metadata": {
    "execution": {
     "iopub.execute_input": "2023-09-09T23:29:53.360945Z",
     "iopub.status.busy": "2023-09-09T23:29:53.360451Z",
     "iopub.status.idle": "2023-09-09T23:29:53.372408Z",
     "shell.execute_reply": "2023-09-09T23:29:53.370350Z"
    },
    "papermill": {
     "duration": 0.032142,
     "end_time": "2023-09-09T23:29:53.376136",
     "exception": false,
     "start_time": "2023-09-09T23:29:53.343994",
     "status": "completed"
    },
    "tags": []
   },
   "outputs": [
    {
     "data": {
      "text/plain": [
       "(59999, 784)"
      ]
     },
     "execution_count": 3,
     "metadata": {},
     "output_type": "execute_result"
    }
   ],
   "source": [
    "X_train.shape\n"
   ]
  },
  {
   "cell_type": "code",
   "execution_count": 4,
   "id": "a38561fa",
   "metadata": {
    "execution": {
     "iopub.execute_input": "2023-09-09T23:29:53.407841Z",
     "iopub.status.busy": "2023-09-09T23:29:53.407319Z",
     "iopub.status.idle": "2023-09-09T23:29:53.416805Z",
     "shell.execute_reply": "2023-09-09T23:29:53.415384Z"
    },
    "papermill": {
     "duration": 0.027945,
     "end_time": "2023-09-09T23:29:53.419594",
     "exception": false,
     "start_time": "2023-09-09T23:29:53.391649",
     "status": "completed"
    },
    "tags": []
   },
   "outputs": [
    {
     "data": {
      "text/plain": [
       "(59999, 1)"
      ]
     },
     "execution_count": 4,
     "metadata": {},
     "output_type": "execute_result"
    }
   ],
   "source": [
    "Y_train.shape"
   ]
  },
  {
   "cell_type": "markdown",
   "id": "29562622",
   "metadata": {
    "papermill": {
     "duration": 0.013862,
     "end_time": "2023-09-09T23:29:53.447581",
     "exception": false,
     "start_time": "2023-09-09T23:29:53.433719",
     "status": "completed"
    },
    "tags": []
   },
   "source": [
    "**PREPROCESSING**"
   ]
  },
  {
   "cell_type": "code",
   "execution_count": 5,
   "id": "a1feda61",
   "metadata": {
    "execution": {
     "iopub.execute_input": "2023-09-09T23:29:53.478619Z",
     "iopub.status.busy": "2023-09-09T23:29:53.478112Z",
     "iopub.status.idle": "2023-09-09T23:29:53.817503Z",
     "shell.execute_reply": "2023-09-09T23:29:53.815175Z"
    },
    "papermill": {
     "duration": 0.358478,
     "end_time": "2023-09-09T23:29:53.821244",
     "exception": false,
     "start_time": "2023-09-09T23:29:53.462766",
     "status": "completed"
    },
    "tags": []
   },
   "outputs": [],
   "source": [
    "#scaling down to a range  between 0 and 1 [0,1]\n",
    "X_train=X_train/255\n",
    "X_test=X_test/255"
   ]
  },
  {
   "cell_type": "markdown",
   "id": "70c96167",
   "metadata": {
    "papermill": {
     "duration": 0.016025,
     "end_time": "2023-09-09T23:29:53.853274",
     "exception": false,
     "start_time": "2023-09-09T23:29:53.837249",
     "status": "completed"
    },
    "tags": []
   },
   "source": [
    "**IMPORTING LIBRARIES**"
   ]
  },
  {
   "cell_type": "code",
   "execution_count": 6,
   "id": "e3e7f189",
   "metadata": {
    "execution": {
     "iopub.execute_input": "2023-09-09T23:29:53.886191Z",
     "iopub.status.busy": "2023-09-09T23:29:53.885140Z",
     "iopub.status.idle": "2023-09-09T23:30:09.282131Z",
     "shell.execute_reply": "2023-09-09T23:30:09.280555Z"
    },
    "papermill": {
     "duration": 15.417828,
     "end_time": "2023-09-09T23:30:09.285536",
     "exception": false,
     "start_time": "2023-09-09T23:29:53.867708",
     "status": "completed"
    },
    "tags": []
   },
   "outputs": [],
   "source": [
    "import tensorflow as tf\n",
    "from keras.utils import np_utils\n",
    "from tensorflow import keras"
   ]
  },
  {
   "cell_type": "code",
   "execution_count": 7,
   "id": "4fb7de61",
   "metadata": {
    "execution": {
     "iopub.execute_input": "2023-09-09T23:30:09.317090Z",
     "iopub.status.busy": "2023-09-09T23:30:09.314545Z",
     "iopub.status.idle": "2023-09-09T23:30:09.325697Z",
     "shell.execute_reply": "2023-09-09T23:30:09.323496Z"
    },
    "papermill": {
     "duration": 0.029821,
     "end_time": "2023-09-09T23:30:09.328592",
     "exception": false,
     "start_time": "2023-09-09T23:30:09.298771",
     "status": "completed"
    },
    "tags": []
   },
   "outputs": [
    {
     "name": "stdout",
     "output_type": "stream",
     "text": [
      "Train: X=(59999, 784), y=(59999, 1)\n",
      "Test: X=(9999, 784), y=(9999, 1)\n"
     ]
    }
   ],
   "source": [
    "from matplotlib import pyplot as plt\n",
    "print('Train: X=%s, y=%s' % (X_train.shape, Y_train.shape))\n",
    "print('Test: X=%s, y=%s' % (X_test.shape, Y_test.shape))\n"
   ]
  },
  {
   "cell_type": "markdown",
   "id": "333fe845",
   "metadata": {
    "papermill": {
     "duration": 0.017263,
     "end_time": "2023-09-09T23:30:09.359894",
     "exception": false,
     "start_time": "2023-09-09T23:30:09.342631",
     "status": "completed"
    },
    "tags": []
   },
   "source": [
    "**VISUALIZING 4TH IMAGE**"
   ]
  },
  {
   "cell_type": "code",
   "execution_count": 8,
   "id": "e077b390",
   "metadata": {
    "execution": {
     "iopub.execute_input": "2023-09-09T23:30:09.395589Z",
     "iopub.status.busy": "2023-09-09T23:30:09.394292Z",
     "iopub.status.idle": "2023-09-09T23:30:09.784326Z",
     "shell.execute_reply": "2023-09-09T23:30:09.782617Z"
    },
    "papermill": {
     "duration": 0.412881,
     "end_time": "2023-09-09T23:30:09.787452",
     "exception": false,
     "start_time": "2023-09-09T23:30:09.374571",
     "status": "completed"
    },
    "tags": []
   },
   "outputs": [
    {
     "data": {
      "image/png": "[encoded data removed]",
      "text/plain": [
       "<Figure size 640x480 with 1 Axes>"
      ]
     },
     "metadata": {},
     "output_type": "display_data"
    }
   ],
   "source": [
    "import matplotlib.pyplot as plt\n",
    "\n",
    "first_image = X_train[4]\n",
    "first_image = np.array(first_image, dtype='float')\n",
    "pixels = first_image.reshape((28, 28))\n",
    "\n",
    "plt.imshow(pixels, cmap='gray')\n",
    "\n",
    "plt.show()"
   ]
  },
  {
   "cell_type": "code",
   "execution_count": 9,
   "id": "5ae85c65",
   "metadata": {
    "execution": {
     "iopub.execute_input": "2023-09-09T23:30:09.817330Z",
     "iopub.status.busy": "2023-09-09T23:30:09.816736Z",
     "iopub.status.idle": "2023-09-09T23:30:10.156157Z",
     "shell.execute_reply": "2023-09-09T23:30:10.154219Z"
    },
    "papermill": {
     "duration": 0.358873,
     "end_time": "2023-09-09T23:30:10.160171",
     "exception": false,
     "start_time": "2023-09-09T23:30:09.801298",
     "status": "completed"
    },
    "tags": []
   },
   "outputs": [
    {
     "data": {
      "text/plain": [
       "<matplotlib.image.AxesImage at 0x7cc9f8b4d330>"
      ]
     },
     "execution_count": 9,
     "metadata": {},
     "output_type": "execute_result"
    },
    {
     "data": {
      "image/png": "[encoded data removed]",
      "text/plain": [
       "<Figure size 640x480 with 1 Axes>"
      ]
     },
     "metadata": {},
     "output_type": "display_data"
    }
   ],
   "source": [
    "# Python 3 program to visualize 4th image\n",
    "import matplotlib.pyplot as plt\n",
    "import numpy as np\n",
    "im1 = X_train.reshape(X_train.shape[0], 28, 28, 1)\n",
    "im2 = X_test.reshape(X_test.shape[0], 28, 28, 1)\n",
    "\n",
    "plt.imshow(X_train[4].reshape(28,28))\n"
   ]
  },
  {
   "cell_type": "markdown",
   "id": "49fb243e",
   "metadata": {
    "papermill": {
     "duration": 0.015894,
     "end_time": "2023-09-09T23:30:10.191843",
     "exception": false,
     "start_time": "2023-09-09T23:30:10.175949",
     "status": "completed"
    },
    "tags": []
   },
   "source": []
  },
  {
   "cell_type": "markdown",
   "id": "9b999a05",
   "metadata": {
    "papermill": {
     "duration": 0.015251,
     "end_time": "2023-09-09T23:30:10.222576",
     "exception": false,
     "start_time": "2023-09-09T23:30:10.207325",
     "status": "completed"
    },
    "tags": []
   },
   "source": [
    " **ONE HOT-ENCODING**"
   ]
  },
  {
   "cell_type": "code",
   "execution_count": 10,
   "id": "21c2ec0a",
   "metadata": {
    "execution": {
     "iopub.execute_input": "2023-09-09T23:30:10.257210Z",
     "iopub.status.busy": "2023-09-09T23:30:10.256645Z",
     "iopub.status.idle": "2023-09-09T23:30:10.264510Z",
     "shell.execute_reply": "2023-09-09T23:30:10.263120Z"
    },
    "papermill": {
     "duration": 0.02994,
     "end_time": "2023-09-09T23:30:10.268124",
     "exception": false,
     "start_time": "2023-09-09T23:30:10.238184",
     "status": "completed"
    },
    "tags": []
   },
   "outputs": [],
   "source": [
    "\n",
    "Y_train=tf.keras.utils.to_categorical(Y_train)"
   ]
  },
  {
   "cell_type": "code",
   "execution_count": 11,
   "id": "4207bf06",
   "metadata": {
    "execution": {
     "iopub.execute_input": "2023-09-09T23:30:10.305229Z",
     "iopub.status.busy": "2023-09-09T23:30:10.304730Z",
     "iopub.status.idle": "2023-09-09T23:30:10.311728Z",
     "shell.execute_reply": "2023-09-09T23:30:10.309904Z"
    },
    "papermill": {
     "duration": 0.029861,
     "end_time": "2023-09-09T23:30:10.315280",
     "exception": false,
     "start_time": "2023-09-09T23:30:10.285419",
     "status": "completed"
    },
    "tags": []
   },
   "outputs": [],
   "source": [
    "Y_test=tf.keras.utils.to_categorical(Y_test)"
   ]
  },
  {
   "cell_type": "markdown",
   "id": "753c797b",
   "metadata": {
    "papermill": {
     "duration": 0.015264,
     "end_time": "2023-09-09T23:30:10.346202",
     "exception": false,
     "start_time": "2023-09-09T23:30:10.330938",
     "status": "completed"
    },
    "tags": []
   },
   "source": [
    "**BUILDING NN MODEL**"
   ]
  },
  {
   "cell_type": "markdown",
   "id": "04752258",
   "metadata": {
    "papermill": {
     "duration": 0.016021,
     "end_time": "2023-09-09T23:30:10.379606",
     "exception": false,
     "start_time": "2023-09-09T23:30:10.363585",
     "status": "completed"
    },
    "tags": []
   },
   "source": []
  },
  {
   "cell_type": "code",
   "execution_count": 12,
   "id": "438f6513",
   "metadata": {
    "execution": {
     "iopub.execute_input": "2023-09-09T23:30:10.413871Z",
     "iopub.status.busy": "2023-09-09T23:30:10.413419Z",
     "iopub.status.idle": "2023-09-09T23:30:10.418615Z",
     "shell.execute_reply": "2023-09-09T23:30:10.417434Z"
    },
    "papermill": {
     "duration": 0.025858,
     "end_time": "2023-09-09T23:30:10.422142",
     "exception": false,
     "start_time": "2023-09-09T23:30:10.396284",
     "status": "completed"
    },
    "tags": []
   },
   "outputs": [],
   "source": [
    "from keras.models import Sequential\n"
   ]
  },
  {
   "cell_type": "code",
   "execution_count": 13,
   "id": "c8e44070",
   "metadata": {
    "execution": {
     "iopub.execute_input": "2023-09-09T23:30:10.458015Z",
     "iopub.status.busy": "2023-09-09T23:30:10.457589Z",
     "iopub.status.idle": "2023-09-09T23:30:10.462792Z",
     "shell.execute_reply": "2023-09-09T23:30:10.461532Z"
    },
    "papermill": {
     "duration": 0.02544,
     "end_time": "2023-09-09T23:30:10.465969",
     "exception": false,
     "start_time": "2023-09-09T23:30:10.440529",
     "status": "completed"
    },
    "tags": []
   },
   "outputs": [],
   "source": [
    "from keras.layers import Dense"
   ]
  },
  {
   "cell_type": "code",
   "execution_count": 14,
   "id": "6b40e89f",
   "metadata": {
    "execution": {
     "iopub.execute_input": "2023-09-09T23:30:10.500226Z",
     "iopub.status.busy": "2023-09-09T23:30:10.499808Z",
     "iopub.status.idle": "2023-09-09T23:30:10.669758Z",
     "shell.execute_reply": "2023-09-09T23:30:10.667627Z"
    },
    "papermill": {
     "duration": 0.191992,
     "end_time": "2023-09-09T23:30:10.674417",
     "exception": false,
     "start_time": "2023-09-09T23:30:10.482425",
     "status": "completed"
    },
    "tags": []
   },
   "outputs": [],
   "source": [
    "model=Sequential()"
   ]
  },
  {
   "cell_type": "code",
   "execution_count": 15,
   "id": "ecbd56c3",
   "metadata": {
    "execution": {
     "iopub.execute_input": "2023-09-09T23:30:10.710156Z",
     "iopub.status.busy": "2023-09-09T23:30:10.707764Z",
     "iopub.status.idle": "2023-09-09T23:30:10.902098Z",
     "shell.execute_reply": "2023-09-09T23:30:10.900470Z"
    },
    "papermill": {
     "duration": 0.215139,
     "end_time": "2023-09-09T23:30:10.905620",
     "exception": false,
     "start_time": "2023-09-09T23:30:10.690481",
     "status": "completed"
    },
    "tags": []
   },
   "outputs": [],
   "source": [
    "#NN architecture with 4 hidden layers\n",
    "model.add(Dense(200, input_dim=784, activation='relu'))\n",
    "model.add(Dense(128, activation='relu'))\n",
    "model.add(Dense(64, activation='relu'))\n",
    "model.add(Dense(10, activation='softmax'))"
   ]
  },
  {
   "cell_type": "markdown",
   "id": "c1ca97b1",
   "metadata": {
    "papermill": {
     "duration": 0.016077,
     "end_time": "2023-09-09T23:30:10.936917",
     "exception": false,
     "start_time": "2023-09-09T23:30:10.920840",
     "status": "completed"
    },
    "tags": []
   },
   "source": [
    "**MODEL COMPILATION**"
   ]
  },
  {
   "cell_type": "code",
   "execution_count": 16,
   "id": "15f3306f",
   "metadata": {
    "execution": {
     "iopub.execute_input": "2023-09-09T23:30:11.058119Z",
     "iopub.status.busy": "2023-09-09T23:30:11.057488Z",
     "iopub.status.idle": "2023-09-09T23:30:11.085113Z",
     "shell.execute_reply": "2023-09-09T23:30:11.084037Z"
    },
    "papermill": {
     "duration": 0.047655,
     "end_time": "2023-09-09T23:30:11.088000",
     "exception": false,
     "start_time": "2023-09-09T23:30:11.040345",
     "status": "completed"
    },
    "tags": []
   },
   "outputs": [],
   "source": [
    "model.compile(loss='categorical_crossentropy', optimizer='adam', metrics=[\"accuracy\"])"
   ]
  },
  {
   "cell_type": "markdown",
   "id": "a6caa44c",
   "metadata": {
    "papermill": {
     "duration": 0.01391,
     "end_time": "2023-09-09T23:30:11.116435",
     "exception": false,
     "start_time": "2023-09-09T23:30:11.102525",
     "status": "completed"
    },
    "tags": []
   },
   "source": [
    "**MODEL TRAINING AND TESTING**"
   ]
  },
  {
   "cell_type": "code",
   "execution_count": 17,
   "id": "a51706ae",
   "metadata": {
    "execution": {
     "iopub.execute_input": "2023-09-09T23:30:11.149273Z",
     "iopub.status.busy": "2023-09-09T23:30:11.147764Z",
     "iopub.status.idle": "2023-09-09T23:30:43.244295Z",
     "shell.execute_reply": "2023-09-09T23:30:43.242326Z"
    },
    "papermill": {
     "duration": 32.125917,
     "end_time": "2023-09-09T23:30:43.256807",
     "exception": false,
     "start_time": "2023-09-09T23:30:11.130890",
     "status": "completed"
    },
    "tags": []
   },
   "outputs": [
    {
     "name": "stdout",
     "output_type": "stream",
     "text": [
      "Epoch 1/10\n",
      "300/300 - 5s - loss: 0.2232 - accuracy: 0.9426 - val_loss: 0.1110 - val_accuracy: 0.9687 - 5s/epoch - 16ms/step\n",
      "Epoch 2/10\n",
      "300/300 - 3s - loss: 0.0639 - accuracy: 0.9824 - val_loss: 0.0840 - val_accuracy: 0.9746 - 3s/epoch - 10ms/step\n",
      "Epoch 3/10\n",
      "300/300 - 3s - loss: 0.0397 - accuracy: 0.9891 - val_loss: 0.0674 - val_accuracy: 0.9819 - 3s/epoch - 10ms/step\n",
      "Epoch 4/10\n",
      "300/300 - 3s - loss: 0.0270 - accuracy: 0.9924 - val_loss: 0.0659 - val_accuracy: 0.9815 - 3s/epoch - 10ms/step\n",
      "Epoch 5/10\n",
      "300/300 - 3s - loss: 0.0197 - accuracy: 0.9943 - val_loss: 0.0736 - val_accuracy: 0.9814 - 3s/epoch - 9ms/step\n",
      "Epoch 6/10\n",
      "300/300 - 3s - loss: 0.0154 - accuracy: 0.9954 - val_loss: 0.0693 - val_accuracy: 0.9830 - 3s/epoch - 10ms/step\n",
      "Epoch 7/10\n",
      "300/300 - 3s - loss: 0.0118 - accuracy: 0.9966 - val_loss: 0.0699 - val_accuracy: 0.9827 - 3s/epoch - 10ms/step\n",
      "Epoch 8/10\n",
      "300/300 - 3s - loss: 0.0103 - accuracy: 0.9966 - val_loss: 0.0729 - val_accuracy: 0.9814 - 3s/epoch - 9ms/step\n",
      "Epoch 9/10\n",
      "300/300 - 3s - loss: 0.0088 - accuracy: 0.9973 - val_loss: 0.0665 - val_accuracy: 0.9828 - 3s/epoch - 10ms/step\n",
      "Epoch 10/10\n",
      "300/300 - 3s - loss: 0.0061 - accuracy: 0.9981 - val_loss: 0.0796 - val_accuracy: 0.9823 - 3s/epoch - 9ms/step\n"
     ]
    },
    {
     "data": {
      "text/plain": [
       "<keras.callbacks.History at 0x7cc9f626e950>"
      ]
     },
     "execution_count": 17,
     "metadata": {},
     "output_type": "execute_result"
    }
   ],
   "source": [
    "model.fit(X_train,Y_train,validation_data=(X_test,Y_test), epochs=10, batch_size=200, verbose=2)"
   ]
  },
  {
   "cell_type": "markdown",
   "id": "b98c1ac0",
   "metadata": {
    "papermill": {
     "duration": 0.017363,
     "end_time": "2023-09-09T23:30:43.290700",
     "exception": false,
     "start_time": "2023-09-09T23:30:43.273337",
     "status": "completed"
    },
    "tags": []
   },
   "source": [
    "**EVALUATING THE SCORE**"
   ]
  },
  {
   "cell_type": "code",
   "execution_count": 18,
   "id": "3ba070aa",
   "metadata": {
    "execution": {
     "iopub.execute_input": "2023-09-09T23:30:43.326817Z",
     "iopub.status.busy": "2023-09-09T23:30:43.326238Z",
     "iopub.status.idle": "2023-09-09T23:30:44.510261Z",
     "shell.execute_reply": "2023-09-09T23:30:44.508409Z"
    },
    "papermill": {
     "duration": 1.206489,
     "end_time": "2023-09-09T23:30:44.514353",
     "exception": false,
     "start_time": "2023-09-09T23:30:43.307864",
     "status": "completed"
    },
    "tags": []
   },
   "outputs": [
    {
     "name": "stdout",
     "output_type": "stream",
     "text": [
      "313/313 [==============================] - 1s 3ms/step - loss: 0.0796 - accuracy: 0.9823\n"
     ]
    }
   ],
   "source": [
    "scores=model.evaluate(X_test,Y_test)"
   ]
  },
  {
   "cell_type": "code",
   "execution_count": 19,
   "id": "4b9711fa",
   "metadata": {
    "execution": {
     "iopub.execute_input": "2023-09-09T23:30:44.561470Z",
     "iopub.status.busy": "2023-09-09T23:30:44.559579Z",
     "iopub.status.idle": "2023-09-09T23:30:44.567748Z",
     "shell.execute_reply": "2023-09-09T23:30:44.566745Z"
    },
    "papermill": {
     "duration": 0.036208,
     "end_time": "2023-09-09T23:30:44.571182",
     "exception": false,
     "start_time": "2023-09-09T23:30:44.534974",
     "status": "completed"
    },
    "tags": []
   },
   "outputs": [
    {
     "data": {
      "text/plain": [
       "0.9822982549667358"
      ]
     },
     "execution_count": 19,
     "metadata": {},
     "output_type": "execute_result"
    }
   ],
   "source": [
    "scores[1]"
   ]
  },
  {
   "cell_type": "markdown",
   "id": "5c7122d0",
   "metadata": {
    "papermill": {
     "duration": 0.021711,
     "end_time": "2023-09-09T23:30:44.614171",
     "exception": false,
     "start_time": "2023-09-09T23:30:44.592460",
     "status": "completed"
    },
    "tags": []
   },
   "source": [
    "**DISPLAYING THE RESULT FOR RANDOM NUMBER**"
   ]
  },
  {
   "cell_type": "code",
   "execution_count": 20,
   "id": "855be7dd",
   "metadata": {
    "execution": {
     "iopub.execute_input": "2023-09-09T23:30:44.657524Z",
     "iopub.status.busy": "2023-09-09T23:30:44.657057Z",
     "iopub.status.idle": "2023-09-09T23:30:45.164885Z",
     "shell.execute_reply": "2023-09-09T23:30:45.163175Z"
    },
    "papermill": {
     "duration": 0.533077,
     "end_time": "2023-09-09T23:30:45.168332",
     "exception": false,
     "start_time": "2023-09-09T23:30:44.635255",
     "status": "completed"
    },
    "tags": []
   },
   "outputs": [
    {
     "name": "stdout",
     "output_type": "stream",
     "text": [
      "1/1 [==============================] - 0s 127ms/step\n",
      "3 3\n"
     ]
    },
    {
     "data": {
      "image/png": "[encoded data removed]",
      "text/plain": [
       "<Figure size 640x480 with 1 Axes>"
      ]
     },
     "metadata": {},
     "output_type": "display_data"
    }
   ],
   "source": [
    "import matplotlib.pyplot as plt\n",
    "random = np.random.randint(0, 9999)\n",
    "\n",
    "first_image = X_test[[random, random+1]]\n",
    "label = Y_test[random].nonzero()[0][0]\n",
    "prediction = model.predict(first_image)\n",
    "max_idx = tf.argmax(prediction[0]).numpy()\n",
    "print(label, max_idx)\n",
    "first_image = np.array(first_image, dtype='float')\n",
    "pixels = first_image[0].reshape((28, 28))\n",
    "plt.imshow(pixels, cmap='gray')\n",
    "plt.show()\n"
   ]
  },
  {
   "cell_type": "markdown",
   "id": "726794c9",
   "metadata": {
    "papermill": {
     "duration": 0.018835,
     "end_time": "2023-09-09T23:30:45.206782",
     "exception": false,
     "start_time": "2023-09-09T23:30:45.187947",
     "status": "completed"
    },
    "tags": []
   },
   "source": [
    "**ACCURACY PLOT**"
   ]
  },
  {
   "cell_type": "code",
   "execution_count": 21,
   "id": "2993f9d1",
   "metadata": {
    "execution": {
     "iopub.execute_input": "2023-09-09T23:30:45.249188Z",
     "iopub.status.busy": "2023-09-09T23:30:45.248576Z",
     "iopub.status.idle": "2023-09-09T23:31:15.259947Z",
     "shell.execute_reply": "2023-09-09T23:31:15.258314Z"
    },
    "papermill": {
     "duration": 30.0587,
     "end_time": "2023-09-09T23:31:15.285978",
     "exception": false,
     "start_time": "2023-09-09T23:30:45.227278",
     "status": "completed"
    },
    "tags": []
   },
   "outputs": [
    {
     "name": "stdout",
     "output_type": "stream",
     "text": [
      "Epoch 1/10\n",
      "300/300 - 3s - loss: 0.0054 - accuracy: 0.9983 - val_loss: 0.0835 - val_accuracy: 0.9824 - 3s/epoch - 9ms/step\n",
      "Epoch 2/10\n",
      "300/300 - 3s - loss: 0.0101 - accuracy: 0.9966 - val_loss: 0.0802 - val_accuracy: 0.9824 - 3s/epoch - 10ms/step\n",
      "Epoch 3/10\n",
      "300/300 - 3s - loss: 0.0094 - accuracy: 0.9970 - val_loss: 0.0764 - val_accuracy: 0.9833 - 3s/epoch - 10ms/step\n",
      "Epoch 4/10\n",
      "300/300 - 3s - loss: 0.0042 - accuracy: 0.9988 - val_loss: 0.0910 - val_accuracy: 0.9810 - 3s/epoch - 9ms/step\n",
      "Epoch 5/10\n",
      "300/300 - 3s - loss: 0.0051 - accuracy: 0.9982 - val_loss: 0.0882 - val_accuracy: 0.9814 - 3s/epoch - 9ms/step\n",
      "Epoch 6/10\n",
      "300/300 - 3s - loss: 0.0056 - accuracy: 0.9983 - val_loss: 0.0791 - val_accuracy: 0.9858 - 3s/epoch - 10ms/step\n",
      "Epoch 7/10\n",
      "300/300 - 3s - loss: 0.0038 - accuracy: 0.9988 - val_loss: 0.0839 - val_accuracy: 0.9851 - 3s/epoch - 10ms/step\n",
      "Epoch 8/10\n",
      "300/300 - 3s - loss: 0.0047 - accuracy: 0.9985 - val_loss: 0.0937 - val_accuracy: 0.9837 - 3s/epoch - 10ms/step\n",
      "Epoch 9/10\n",
      "300/300 - 3s - loss: 0.0060 - accuracy: 0.9980 - val_loss: 0.0995 - val_accuracy: 0.9824 - 3s/epoch - 10ms/step\n",
      "Epoch 10/10\n",
      "300/300 - 3s - loss: 0.0065 - accuracy: 0.9981 - val_loss: 0.0948 - val_accuracy: 0.9828 - 3s/epoch - 9ms/step\n"
     ]
    },
    {
     "data": {
      "image/png": "[encoded data removed]",
      "text/plain": [
       "<Figure size 640x480 with 1 Axes>"
      ]
     },
     "metadata": {},
     "output_type": "display_data"
    }
   ],
   "source": [
    "history = model.fit(X_train,Y_train,validation_data=(X_test, Y_test), epochs=10, batch_size=200, verbose=2)\n",
    "plt.plot(history.history['accuracy'])\n",
    "plt.plot(history.history['val_accuracy'])\n",
    "plt.title('model accuracy')\n",
    "plt.ylabel('accuracy')\n",
    "plt.xlabel('epoch')\n",
    "plt.legend(['train', 'val'], loc='upper left')\n",
    "plt.show()"
   ]
  },
  {
   "cell_type": "markdown",
   "id": "67755dea",
   "metadata": {
    "papermill": {
     "duration": 0.023883,
     "end_time": "2023-09-09T23:31:15.335286",
     "exception": false,
     "start_time": "2023-09-09T23:31:15.311403",
     "status": "completed"
    },
    "tags": []
   },
   "source": [
    "**MODEL LOSS PLOT**"
   ]
  },
  {
   "cell_type": "code",
   "execution_count": 22,
   "id": "78fe383c",
   "metadata": {
    "execution": {
     "iopub.execute_input": "2023-09-09T23:31:15.384567Z",
     "iopub.status.busy": "2023-09-09T23:31:15.382752Z",
     "iopub.status.idle": "2023-09-09T23:31:15.753499Z",
     "shell.execute_reply": "2023-09-09T23:31:15.752007Z"
    },
    "papermill": {
     "duration": 0.397667,
     "end_time": "2023-09-09T23:31:15.756319",
     "exception": false,
     "start_time": "2023-09-09T23:31:15.358652",
     "status": "completed"
    },
    "tags": []
   },
   "outputs": [
    {
     "data": {
      "image/png": "[encoded data removed]",
      "text/plain": [
       "<Figure size 640x480 with 1 Axes>"
      ]
     },
     "metadata": {},
     "output_type": "display_data"
    }
   ],
   "source": [
    "plt.plot(history.history['loss'])\n",
    "plt.plot(history.history['val_loss'])\n",
    "plt.title('model loss')\n",
    "plt.ylabel('loss')\n",
    "plt.xlabel('epoch')\n",
    "plt.legend(['train', 'validation'], loc='upper left')\n",
    "plt.show()"
   ]
  },
  {
   "cell_type": "code",
   "execution_count": null,
   "id": "4f5b1c77",
   "metadata": {
    "papermill": {
     "duration": 0.022405,
     "end_time": "2023-09-09T23:31:15.800374",
     "exception": false,
     "start_time": "2023-09-09T23:31:15.777969",
     "status": "completed"
    },
    "tags": []
   },
   "outputs": [],
   "source": []
  }
 ],
 "kernelspec": {
  "display_name": "Python 3",
  "language": "python",
  "name": "python3"
 },
 "language_info": {
  "codemirror_mode": {
   "name": "ipython",
   "version": 3
  },
  "file_extension": ".py",
  "mimetype": "text/x-python",
  "name": "python",
  "nbconvert_exporter": "python",
  "pygments_lexer": "ipython3",
  "version": "3.6.4"
 },
 "metadata": {
  "kernelspec": {
   "display_name": "Python 3",
   "language": "python",
   "name": "python3"
  },
  "language_info": {
   "codemirror_mode": {
    "name": "ipython",
    "version": 3
   },
   "file_extension": ".py",
   "mimetype": "text/x-python",
   "name": "python",
   "nbconvert_exporter": "python",
   "pygments_lexer": "ipython3",
   "version": "3.10.12"
  },
  "papermill": {
   "default_parameters": {},
   "duration": 97.75665,
   "end_time": "2023-09-09T23:31:18.526069",
   "environment_variables": {},
   "exception": null,
   "input_path": "__notebook__.ipynb",
   "output_path": "__notebook__.ipynb",
   "parameters": {},
   "start_time": "2023-09-09T23:29:40.769419",
   "version": "2.4.0"
  }
 },
 "nbformat": 4,
 "nbformat_minor": 5
}
